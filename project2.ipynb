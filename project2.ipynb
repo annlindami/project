{
 "cells": [
  {
   "cell_type": "code",
   "execution_count": 65,
   "id": "0a2094ce",
   "metadata": {},
   "outputs": [
    {
     "name": "stdout",
     "output_type": "stream",
     "text": [
      "Requirement already satisfied: pandas in c:\\users\\varsha\\anaconda3\\lib\\site-packages (2.2.2)\n",
      "Requirement already satisfied: numpy>=1.26.0 in c:\\users\\varsha\\anaconda3\\lib\\site-packages (from pandas) (1.26.4)\n",
      "Requirement already satisfied: python-dateutil>=2.8.2 in c:\\users\\varsha\\anaconda3\\lib\\site-packages (from pandas) (2.9.0.post0)\n",
      "Requirement already satisfied: pytz>=2020.1 in c:\\users\\varsha\\anaconda3\\lib\\site-packages (from pandas) (2024.1)\n",
      "Requirement already satisfied: tzdata>=2022.7 in c:\\users\\varsha\\anaconda3\\lib\\site-packages (from pandas) (2023.3)\n",
      "Requirement already satisfied: six>=1.5 in c:\\users\\varsha\\anaconda3\\lib\\site-packages (from python-dateutil>=2.8.2->pandas) (1.16.0)\n"
     ]
    }
   ],
   "source": [
    "!pip install pandas\n",
    "import pandas as pd\n",
    "import numpy as np"
   ]
  },
  {
   "cell_type": "code",
   "execution_count": 66,
   "id": "f5907f00",
   "metadata": {},
   "outputs": [],
   "source": [
    "df= pd.read_excel(\"Online Retail.xlsx\")"
   ]
  },
  {
   "cell_type": "code",
   "execution_count": 67,
   "id": "e0376714",
   "metadata": {},
   "outputs": [
    {
     "name": "stdout",
     "output_type": "stream",
     "text": [
      "InvoiceNo           0\n",
      "StockCode           0\n",
      "Description      1454\n",
      "Quantity            0\n",
      "InvoiceDate         0\n",
      "UnitPrice           0\n",
      "CustomerID     135080\n",
      "Country             0\n",
      "dtype: int64\n"
     ]
    }
   ],
   "source": [
    "print(df.isnull().sum())"
   ]
  },
  {
   "cell_type": "markdown",
   "id": "deb5e826",
   "metadata": {},
   "source": [
    "the variables Description and CustomerID have missing data"
   ]
  },
  {
   "cell_type": "code",
   "execution_count": 63,
   "id": "4972f10f",
   "metadata": {},
   "outputs": [
    {
     "name": "stdout",
     "output_type": "stream",
     "text": [
      "InvoiceNo      0\n",
      "StockCode      0\n",
      "Description    0\n",
      "Quantity       0\n",
      "InvoiceDate    0\n",
      "UnitPrice      0\n",
      "CustomerID     0\n",
      "Country        0\n",
      "TotalPrice     0\n",
      "dtype: int64\n"
     ]
    }
   ],
   "source": [
    "# Drop rows with missing CustomerID\n",
    "df = df.dropna(subset=['CustomerID'])\n",
    "\n",
    "#Fills missing values of discription as Unknown\n",
    "df['Description']=df['Description'].fillna('Unknown')\n",
    "\n",
    "# Remove canceled orders (Quantity < 0)\n",
    "df = df[df['Quantity'] > 0]\n",
    "\n",
    "# Create TotalPrice\n",
    "df['TotalPrice'] = df['Quantity'] * df['UnitPrice']\n",
    "\n",
    "print(df.isnull().sum())"
   ]
  },
  {
   "cell_type": "markdown",
   "id": "2b21f6b7",
   "metadata": {},
   "source": [
    "Now,all the missing values are handled."
   ]
  },
  {
   "cell_type": "markdown",
   "id": "dc69d426",
   "metadata": {},
   "source": [
    "# Future engineering"
   ]
  },
  {
   "cell_type": "markdown",
   "id": "44626181",
   "metadata": {},
   "source": [
    "Recency:\tHow many days ago the customer made their last purchase\n",
    "\n",
    "Frequency:\tHow many different purchases (invoices) they made\n",
    "\n",
    "AOV (Average Order Value):\tAverage amount spent per purchase"
   ]
  },
  {
   "cell_type": "code",
   "execution_count": 56,
   "id": "ce6ba7e6",
   "metadata": {},
   "outputs": [
    {
     "data": {
      "text/html": [
       "<div>\n",
       "<style scoped>\n",
       "    .dataframe tbody tr th:only-of-type {\n",
       "        vertical-align: middle;\n",
       "    }\n",
       "\n",
       "    .dataframe tbody tr th {\n",
       "        vertical-align: top;\n",
       "    }\n",
       "\n",
       "    .dataframe thead th {\n",
       "        text-align: right;\n",
       "    }\n",
       "</style>\n",
       "<table border=\"1\" class=\"dataframe\">\n",
       "  <thead>\n",
       "    <tr style=\"text-align: right;\">\n",
       "      <th></th>\n",
       "      <th>Recency</th>\n",
       "      <th>Frequency</th>\n",
       "      <th>AOV</th>\n",
       "      <th>Monetary</th>\n",
       "      <th>Avg_Order_Gap</th>\n",
       "    </tr>\n",
       "    <tr>\n",
       "      <th>CustomerID</th>\n",
       "      <th></th>\n",
       "      <th></th>\n",
       "      <th></th>\n",
       "      <th></th>\n",
       "      <th></th>\n",
       "    </tr>\n",
       "  </thead>\n",
       "  <tbody>\n",
       "    <tr>\n",
       "      <th>12346.0</th>\n",
       "      <td>326</td>\n",
       "      <td>1</td>\n",
       "      <td>77183.600000</td>\n",
       "      <td>77183.60</td>\n",
       "      <td>326.000000</td>\n",
       "    </tr>\n",
       "    <tr>\n",
       "      <th>12347.0</th>\n",
       "      <td>2</td>\n",
       "      <td>7</td>\n",
       "      <td>615.714286</td>\n",
       "      <td>4310.00</td>\n",
       "      <td>0.285714</td>\n",
       "    </tr>\n",
       "    <tr>\n",
       "      <th>12348.0</th>\n",
       "      <td>75</td>\n",
       "      <td>4</td>\n",
       "      <td>449.310000</td>\n",
       "      <td>1797.24</td>\n",
       "      <td>18.750000</td>\n",
       "    </tr>\n",
       "    <tr>\n",
       "      <th>12349.0</th>\n",
       "      <td>19</td>\n",
       "      <td>1</td>\n",
       "      <td>1757.550000</td>\n",
       "      <td>1757.55</td>\n",
       "      <td>19.000000</td>\n",
       "    </tr>\n",
       "    <tr>\n",
       "      <th>12350.0</th>\n",
       "      <td>310</td>\n",
       "      <td>1</td>\n",
       "      <td>334.400000</td>\n",
       "      <td>334.40</td>\n",
       "      <td>310.000000</td>\n",
       "    </tr>\n",
       "  </tbody>\n",
       "</table>\n",
       "</div>"
      ],
      "text/plain": [
       "            Recency  Frequency           AOV  Monetary  Avg_Order_Gap\n",
       "CustomerID                                                           \n",
       "12346.0         326          1  77183.600000  77183.60     326.000000\n",
       "12347.0           2          7    615.714286   4310.00       0.285714\n",
       "12348.0          75          4    449.310000   1797.24      18.750000\n",
       "12349.0          19          1   1757.550000   1757.55      19.000000\n",
       "12350.0         310          1    334.400000    334.40     310.000000"
      ]
     },
     "execution_count": 56,
     "metadata": {},
     "output_type": "execute_result"
    }
   ],
   "source": [
    "import datetime\n",
    "\n",
    "# Reference date (1 day after the last InvoiceDate)\n",
    "snapshot_date = df['InvoiceDate'].max() + datetime.timedelta(days=1)\n",
    "\n",
    "# Group by CustomerID\n",
    "customers = df.groupby('CustomerID').agg({\n",
    "    'InvoiceDate': lambda x: (snapshot_date - x.max()).days,\n",
    "    'InvoiceNo': 'nunique',\n",
    "    'TotalPrice': 'sum'\n",
    "})\n",
    "\n",
    "# Rename columns\n",
    "customers.rename(columns={\n",
    "    'InvoiceDate': 'Recency',\n",
    "    'InvoiceNo': 'Frequency',\n",
    "    'TotalPrice': 'TotalRevenue'\n",
    "}, inplace=True)\n",
    "\n",
    "\n",
    "# Calculate AOV: Total Revenue divided by Frequency\n",
    "customers['AOV'] = customers['TotalRevenue'] / customers['Frequency']\n",
    "\n",
    "# Create Monetary feature\n",
    "customers['Monetary'] = customers['Frequency'] * customers['AOV']\n",
    "\n",
    "# Create Average Order Gap feature\n",
    "customers['Avg_Order_Gap'] = customers['Recency'] / customers['Frequency']\n",
    "\n",
    "# Replace infinite values (in case Frequency = 0)\n",
    "customers['Avg_Order_Gap']=customers['Avg_Order_Gap'].replace([np.inf, -np.inf], np.nan)\n",
    "customers['Avg_Order_Gap']=customers['Avg_Order_Gap'].fillna(customers['Avg_Order_Gap'].median())\n",
    "\n",
    "# Final dataset\n",
    "customers = customers[['Recency', 'Frequency', 'AOV', 'Monetary', 'Avg_Order_Gap']]\n",
    "customers.head()\n"
   ]
  },
  {
   "cell_type": "code",
   "execution_count": 57,
   "id": "e19477b6",
   "metadata": {},
   "outputs": [
    {
     "data": {
      "image/png": "[encoded data removed]",
      "text/plain": [
       "<Figure size 640x480 with 1 Axes>"
      ]
     },
     "metadata": {},
     "output_type": "display_data"
    }
   ],
   "source": [
    "import seaborn as sns\n",
    "import matplotlib.pyplot as plt\n",
    "\n",
    "# Single feature\n",
    "sns.boxplot(x=customers['AOV'])\n",
    "plt.title('Boxplot of AOV')\n",
    "plt.show()"
   ]
  },
  {
   "cell_type": "code",
   "execution_count": 86,
   "id": "f32f7d72",
   "metadata": {},
   "outputs": [],
   "source": [
    "#removing the outliers\n",
    "\n",
    "# Remove top 1% AOV customers\n",
    "q = customers['AOV'].quantile(0.99)\n",
    "customers_filtered = customers[customers['AOV'] < q]"
   ]
  },
  {
   "cell_type": "markdown",
   "id": "e2c52438",
   "metadata": {},
   "source": [
    "# Train a Model to Predict Lifetime Value"
   ]
  },
  {
   "cell_type": "code",
   "execution_count": 87,
   "id": "dc1b9566",
   "metadata": {},
   "outputs": [
    {
     "name": "stdout",
     "output_type": "stream",
     "text": [
      "MAE after using XGBoost: 7.17\n",
      "RMSE after using XGBoost: 24.88\n",
      "Train R²: 1.00\n",
      "Test R²: 0.99\n"
     ]
    }
   ],
   "source": [
    "import xgboost as xgb\n",
    "from sklearn.model_selection import train_test_split\n",
    "from sklearn.metrics import mean_absolute_error, root_mean_squared_error\n",
    "\n",
    "features = ['Recency', 'Frequency', 'Monetary', 'Avg_Order_Gap']\n",
    "X = customers_filtered[features]\n",
    "y = customers_filtered['AOV']\n",
    "\n",
    "X_train, X_test, y_train, y_test = train_test_split(X, y, test_size=0.2, random_state=42)\n",
    "\n",
    "#Train the XGBoost Model\n",
    "\n",
    "# Define and train the XGBoost model\n",
    "model = xgb.XGBRegressor(objective='reg:squarederror', random_state=42, n_estimators=100, learning_rate=0.1)\n",
    "model.fit(X_train, y_train)\n",
    "\n",
    "# Make Predictions\n",
    "y_pred = model.predict(X_test)\n",
    "\n",
    "#Evaluate the Model\n",
    "mae = mean_absolute_error(y_test, y_pred)\n",
    "rmse = root_mean_squared_error(y_test, y_pred)\n",
    "r2_train = model.score(X_train, y_train)\n",
    "r2_test = model.score(X_test, y_test)\n",
    "\n",
    "# Print Results\n",
    "print(f'MAE after using XGBoost: {mae:.2f}')\n",
    "print(f'RMSE after using XGBoost: {rmse:.2f}')\n",
    "print(f\"Train R²: {r2_train:.2f}\")\n",
    "print(f\"Test R²: {r2_test:.2f}\")"
   ]
  },
  {
   "cell_type": "markdown",
   "id": "60fd0421",
   "metadata": {},
   "source": [
    "Train R² = 1.00: the model explains 100% of the variance on training data (perfect fit).\n",
    "\n",
    "Test R² = 0.99: the model explains 99% of the variance on unseen/test data."
   ]
  },
  {
   "cell_type": "markdown",
   "id": "12adee60",
   "metadata": {},
   "source": [
    "The model generalizes very well — no overfitting.\n",
    "\n",
    "It is a very strong, reliable model for predicting AOV (Average Order Value)."
   ]
  },
  {
   "cell_type": "markdown",
   "id": "0a92b989",
   "metadata": {},
   "source": [
    "# Customer Segmentation Based on Predicted LTV"
   ]
  },
  {
   "cell_type": "code",
   "execution_count": 88,
   "id": "61e8b9c3",
   "metadata": {},
   "outputs": [
    {
     "name": "stderr",
     "output_type": "stream",
     "text": [
      "C:\\Users\\Varsha\\AppData\\Local\\Temp\\ipykernel_22940\\2981438853.py:2: SettingWithCopyWarning: \n",
      "A value is trying to be set on a copy of a slice from a DataFrame.\n",
      "Try using .loc[row_indexer,col_indexer] = value instead\n",
      "\n",
      "See the caveats in the documentation: https://pandas.pydata.org/pandas-docs/stable/user_guide/indexing.html#returning-a-view-versus-a-copy\n",
      "  customers_filtered.loc[:, 'Predicted_AOV'] = model.predict(customers_filtered[features])\n",
      "C:\\Users\\Varsha\\AppData\\Local\\Temp\\ipykernel_22940\\2981438853.py:5: SettingWithCopyWarning: \n",
      "A value is trying to be set on a copy of a slice from a DataFrame.\n",
      "Try using .loc[row_indexer,col_indexer] = value instead\n",
      "\n",
      "See the caveats in the documentation: https://pandas.pydata.org/pandas-docs/stable/user_guide/indexing.html#returning-a-view-versus-a-copy\n",
      "  customers_filtered.loc[:, 'Predicted_LTV'] = customers_filtered['Predicted_AOV'] * customers_filtered['Frequency']\n",
      "C:\\Users\\Varsha\\AppData\\Local\\Temp\\ipykernel_22940\\2981438853.py:19: SettingWithCopyWarning: \n",
      "A value is trying to be set on a copy of a slice from a DataFrame.\n",
      "Try using .loc[row_indexer,col_indexer] = value instead\n",
      "\n",
      "See the caveats in the documentation: https://pandas.pydata.org/pandas-docs/stable/user_guide/indexing.html#returning-a-view-versus-a-copy\n",
      "  customers_filtered.loc[:,'LTV_Segment'] = customers_filtered.apply(segment_customer, axis=1)\n"
     ]
    }
   ],
   "source": [
    "#Predict AOV for All Customers ---\n",
    "customers_filtered.loc[:, 'Predicted_AOV'] = model.predict(customers_filtered[features])\n",
    "\n",
    "# Estimate LTV (simple model: Predicted_AOV × Frequency)\n",
    "customers_filtered.loc[:, 'Predicted_LTV'] = customers_filtered['Predicted_AOV'] * customers_filtered['Frequency']\n",
    "\n",
    "# Define segmentation thresholds (adjust based on your data analysis)\n",
    "low_threshold = 50  # Adjust this threshold based on LTV distribution\n",
    "high_threshold = 150\n",
    "\n",
    "def segment_customer(row):\n",
    "    if row['Predicted_LTV'] < low_threshold:\n",
    "        return 'Low Value'\n",
    "    elif row['Predicted_LTV'] >= low_threshold and row['Predicted_LTV'] < high_threshold:\n",
    "        return 'Medium Value'\n",
    "    else:\n",
    "        return 'High Value'\n",
    "\n",
    "customers_filtered.loc[:,'LTV_Segment'] = customers_filtered.apply(segment_customer, axis=1)"
   ]
  },
  {
   "cell_type": "code",
   "execution_count": 91,
   "id": "8a88885f",
   "metadata": {},
   "outputs": [
    {
     "name": "stdout",
     "output_type": "stream",
     "text": [
      "Customer segmentation and LTV prediction completed. Results saved to 'segmented_customers_LTV.csv'.\n"
     ]
    }
   ],
   "source": [
    "#Save the results to CSV\n",
    "customers_filtered.to_csv('segmented_customers_predicted_LTV.csv', index=False)\n",
    "\n",
    "print(\"Customer segmentation and LTV prediction completed. Results saved to 'segmented_customers_LTV.csv'.\")"
   ]
  },
  {
   "cell_type": "code",
   "execution_count": 92,
   "id": "f23bf0bf",
   "metadata": {},
   "outputs": [
    {
     "data": {
      "image/png": "[encoded data removed]",
      "text/plain": [
       "<Figure size 640x480 with 1 Axes>"
      ]
     },
     "metadata": {},
     "output_type": "display_data"
    }
   ],
   "source": [
    "#Visualize Segmentation\n",
    "sns.countplot(x='LTV_Segment', data=customers_filtered, color='lightgreen')\n",
    "plt.title('Customer Segmentation Based on Predicted LTV')\n",
    "plt.show()"
   ]
  }
 ],
 "metadata": {
  "kernelspec": {
   "display_name": "base",
   "language": "python",
   "name": "python3"
  },
  "language_info": {
   "codemirror_mode": {
    "name": "ipython",
    "version": 3
   },
   "file_extension": ".py",
   "mimetype": "text/x-python",
   "name": "python",
   "nbconvert_exporter": "python",
   "pygments_lexer": "ipython3",
   "version": "3.12.7"
  }
 },
 "nbformat": 4,
 "nbformat_minor": 5
}
